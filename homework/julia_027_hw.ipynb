{
 "cells": [
  {
   "cell_type": "markdown",
   "metadata": {},
   "source": [
    "# Julia 機器學習：GLM 線性迴歸\n",
    "\n",
    "## 作業 027：波士頓房價預測資料集\n",
    "\n",
    "請使用 GLM 中的模型，建立一個預測模型來預測波士頓的房價。"
   ]
  },
  {
   "cell_type": "code",
   "execution_count": 1,
   "metadata": {},
   "outputs": [],
   "source": [
    "using GLM, RDatasets, MLDataUtils"
   ]
  },
  {
   "cell_type": "markdown",
   "metadata": {},
   "source": [
    "## 讀取資料"
   ]
  },
  {
   "cell_type": "code",
   "execution_count": 2,
   "metadata": {},
   "outputs": [
    {
     "data": {
      "text/html": [
       "<table class=\"data-frame\"><thead><tr><th></th><th>Crim</th><th>Zn</th><th>Indus</th><th>Chas</th><th>NOx</th><th>Rm</th><th>Age</th><th>Dis</th><th>Rad</th><th>Tax</th></tr><tr><th></th><th>Float64</th><th>Float64</th><th>Float64</th><th>Int64</th><th>Float64</th><th>Float64</th><th>Float64</th><th>Float64</th><th>Int64</th><th>Int64</th></tr></thead><tbody><p>10 rows × 14 columns (omitted printing of 4 columns)</p><tr><th>1</th><td>0.00632</td><td>18.0</td><td>2.31</td><td>0</td><td>0.538</td><td>6.575</td><td>65.2</td><td>4.09</td><td>1</td><td>296</td></tr><tr><th>2</th><td>0.02731</td><td>0.0</td><td>7.07</td><td>0</td><td>0.469</td><td>6.421</td><td>78.9</td><td>4.9671</td><td>2</td><td>242</td></tr><tr><th>3</th><td>0.02729</td><td>0.0</td><td>7.07</td><td>0</td><td>0.469</td><td>7.185</td><td>61.1</td><td>4.9671</td><td>2</td><td>242</td></tr><tr><th>4</th><td>0.03237</td><td>0.0</td><td>2.18</td><td>0</td><td>0.458</td><td>6.998</td><td>45.8</td><td>6.0622</td><td>3</td><td>222</td></tr><tr><th>5</th><td>0.06905</td><td>0.0</td><td>2.18</td><td>0</td><td>0.458</td><td>7.147</td><td>54.2</td><td>6.0622</td><td>3</td><td>222</td></tr><tr><th>6</th><td>0.02985</td><td>0.0</td><td>2.18</td><td>0</td><td>0.458</td><td>6.43</td><td>58.7</td><td>6.0622</td><td>3</td><td>222</td></tr><tr><th>7</th><td>0.08829</td><td>12.5</td><td>7.87</td><td>0</td><td>0.524</td><td>6.012</td><td>66.6</td><td>5.5605</td><td>5</td><td>311</td></tr><tr><th>8</th><td>0.14455</td><td>12.5</td><td>7.87</td><td>0</td><td>0.524</td><td>6.172</td><td>96.1</td><td>5.9505</td><td>5</td><td>311</td></tr><tr><th>9</th><td>0.21124</td><td>12.5</td><td>7.87</td><td>0</td><td>0.524</td><td>5.631</td><td>100.0</td><td>6.0821</td><td>5</td><td>311</td></tr><tr><th>10</th><td>0.17004</td><td>12.5</td><td>7.87</td><td>0</td><td>0.524</td><td>6.004</td><td>85.9</td><td>6.5921</td><td>5</td><td>311</td></tr></tbody></table>"
      ],
      "text/latex": [
       "\\begin{tabular}{r|ccccccccccc}\n",
       "\t& Crim & Zn & Indus & Chas & NOx & Rm & Age & Dis & Rad & Tax & \\\\\n",
       "\t\\hline\n",
       "\t& Float64 & Float64 & Float64 & Int64 & Float64 & Float64 & Float64 & Float64 & Int64 & Int64 & \\\\\n",
       "\t\\hline\n",
       "\t1 & 0.00632 & 18.0 & 2.31 & 0 & 0.538 & 6.575 & 65.2 & 4.09 & 1 & 296 & $\\dots$ \\\\\n",
       "\t2 & 0.02731 & 0.0 & 7.07 & 0 & 0.469 & 6.421 & 78.9 & 4.9671 & 2 & 242 & $\\dots$ \\\\\n",
       "\t3 & 0.02729 & 0.0 & 7.07 & 0 & 0.469 & 7.185 & 61.1 & 4.9671 & 2 & 242 & $\\dots$ \\\\\n",
       "\t4 & 0.03237 & 0.0 & 2.18 & 0 & 0.458 & 6.998 & 45.8 & 6.0622 & 3 & 222 & $\\dots$ \\\\\n",
       "\t5 & 0.06905 & 0.0 & 2.18 & 0 & 0.458 & 7.147 & 54.2 & 6.0622 & 3 & 222 & $\\dots$ \\\\\n",
       "\t6 & 0.02985 & 0.0 & 2.18 & 0 & 0.458 & 6.43 & 58.7 & 6.0622 & 3 & 222 & $\\dots$ \\\\\n",
       "\t7 & 0.08829 & 12.5 & 7.87 & 0 & 0.524 & 6.012 & 66.6 & 5.5605 & 5 & 311 & $\\dots$ \\\\\n",
       "\t8 & 0.14455 & 12.5 & 7.87 & 0 & 0.524 & 6.172 & 96.1 & 5.9505 & 5 & 311 & $\\dots$ \\\\\n",
       "\t9 & 0.21124 & 12.5 & 7.87 & 0 & 0.524 & 5.631 & 100.0 & 6.0821 & 5 & 311 & $\\dots$ \\\\\n",
       "\t10 & 0.17004 & 12.5 & 7.87 & 0 & 0.524 & 6.004 & 85.9 & 6.5921 & 5 & 311 & $\\dots$ \\\\\n",
       "\\end{tabular}\n"
      ],
      "text/plain": [
       "10×14 DataFrame. Omitted printing of 7 columns\n",
       "│ Row │ Crim    │ Zn      │ Indus   │ Chas  │ NOx     │ Rm      │ Age     │\n",
       "│     │ \u001b[90mFloat64\u001b[39m │ \u001b[90mFloat64\u001b[39m │ \u001b[90mFloat64\u001b[39m │ \u001b[90mInt64\u001b[39m │ \u001b[90mFloat64\u001b[39m │ \u001b[90mFloat64\u001b[39m │ \u001b[90mFloat64\u001b[39m │\n",
       "├─────┼─────────┼─────────┼─────────┼───────┼─────────┼─────────┼─────────┤\n",
       "│ 1   │ 0.00632 │ 18.0    │ 2.31    │ 0     │ 0.538   │ 6.575   │ 65.2    │\n",
       "│ 2   │ 0.02731 │ 0.0     │ 7.07    │ 0     │ 0.469   │ 6.421   │ 78.9    │\n",
       "│ 3   │ 0.02729 │ 0.0     │ 7.07    │ 0     │ 0.469   │ 7.185   │ 61.1    │\n",
       "│ 4   │ 0.03237 │ 0.0     │ 2.18    │ 0     │ 0.458   │ 6.998   │ 45.8    │\n",
       "│ 5   │ 0.06905 │ 0.0     │ 2.18    │ 0     │ 0.458   │ 7.147   │ 54.2    │\n",
       "│ 6   │ 0.02985 │ 0.0     │ 2.18    │ 0     │ 0.458   │ 6.43    │ 58.7    │\n",
       "│ 7   │ 0.08829 │ 12.5    │ 7.87    │ 0     │ 0.524   │ 6.012   │ 66.6    │\n",
       "│ 8   │ 0.14455 │ 12.5    │ 7.87    │ 0     │ 0.524   │ 6.172   │ 96.1    │\n",
       "│ 9   │ 0.21124 │ 12.5    │ 7.87    │ 0     │ 0.524   │ 5.631   │ 100.0   │\n",
       "│ 10  │ 0.17004 │ 12.5    │ 7.87    │ 0     │ 0.524   │ 6.004   │ 85.9    │"
      ]
     },
     "execution_count": 2,
     "metadata": {},
     "output_type": "execute_result"
    }
   ],
   "source": [
    "boston = dataset(\"MASS\", \"Boston\")\n",
    "first(boston, 10)"
   ]
  },
  {
   "cell_type": "code",
   "execution_count": 3,
   "metadata": {},
   "outputs": [],
   "source": [
    "indecies = MLDataUtils.shuffleobs(collect(1:nrow(boston)))\n",
    "train_ind, test_ind = MLDataUtils.splitobs(indecies, at = 0.8);"
   ]
  },
  {
   "cell_type": "code",
   "execution_count": 4,
   "metadata": {},
   "outputs": [
    {
     "data": {
      "text/html": [
       "<table class=\"data-frame\"><thead><tr><th></th><th>Crim</th><th>Zn</th><th>Indus</th><th>Chas</th><th>NOx</th><th>Rm</th><th>Age</th><th>Dis</th><th>Rad</th><th>Tax</th></tr><tr><th></th><th>Float64</th><th>Float64</th><th>Float64</th><th>Int64</th><th>Float64</th><th>Float64</th><th>Float64</th><th>Float64</th><th>Int64</th><th>Int64</th></tr></thead><tbody><p>101 rows × 14 columns (omitted printing of 4 columns)</p><tr><th>1</th><td>0.09068</td><td>45.0</td><td>3.44</td><td>0</td><td>0.437</td><td>6.951</td><td>21.5</td><td>6.4798</td><td>5</td><td>398</td></tr><tr><th>2</th><td>0.22489</td><td>12.5</td><td>7.87</td><td>0</td><td>0.524</td><td>6.377</td><td>94.3</td><td>6.3467</td><td>5</td><td>311</td></tr><tr><th>3</th><td>0.22927</td><td>0.0</td><td>6.91</td><td>0</td><td>0.448</td><td>6.03</td><td>85.5</td><td>5.6894</td><td>3</td><td>233</td></tr><tr><th>4</th><td>1.35472</td><td>0.0</td><td>8.14</td><td>0</td><td>0.538</td><td>6.072</td><td>100.0</td><td>4.175</td><td>4</td><td>307</td></tr><tr><th>5</th><td>5.29305</td><td>0.0</td><td>18.1</td><td>0</td><td>0.7</td><td>6.051</td><td>82.5</td><td>2.1678</td><td>24</td><td>666</td></tr><tr><th>6</th><td>3.47428</td><td>0.0</td><td>18.1</td><td>1</td><td>0.718</td><td>8.78</td><td>82.9</td><td>1.9047</td><td>24</td><td>666</td></tr><tr><th>7</th><td>7.02259</td><td>0.0</td><td>18.1</td><td>0</td><td>0.718</td><td>6.006</td><td>95.3</td><td>1.8746</td><td>24</td><td>666</td></tr><tr><th>8</th><td>0.16439</td><td>22.0</td><td>5.86</td><td>0</td><td>0.431</td><td>6.433</td><td>49.1</td><td>7.8265</td><td>7</td><td>330</td></tr><tr><th>9</th><td>13.5222</td><td>0.0</td><td>18.1</td><td>0</td><td>0.631</td><td>3.863</td><td>100.0</td><td>1.5106</td><td>24</td><td>666</td></tr><tr><th>10</th><td>2.81838</td><td>0.0</td><td>18.1</td><td>0</td><td>0.532</td><td>5.762</td><td>40.3</td><td>4.0983</td><td>24</td><td>666</td></tr><tr><th>11</th><td>8.64476</td><td>0.0</td><td>18.1</td><td>0</td><td>0.693</td><td>6.193</td><td>92.6</td><td>1.7912</td><td>24</td><td>666</td></tr><tr><th>12</th><td>0.08308</td><td>0.0</td><td>2.46</td><td>0</td><td>0.488</td><td>5.604</td><td>89.8</td><td>2.9879</td><td>3</td><td>193</td></tr><tr><th>13</th><td>1.83377</td><td>0.0</td><td>19.58</td><td>1</td><td>0.605</td><td>7.802</td><td>98.2</td><td>2.0407</td><td>5</td><td>403</td></tr><tr><th>14</th><td>25.9406</td><td>0.0</td><td>18.1</td><td>0</td><td>0.679</td><td>5.304</td><td>89.1</td><td>1.6475</td><td>24</td><td>666</td></tr><tr><th>15</th><td>0.35233</td><td>0.0</td><td>21.89</td><td>0</td><td>0.624</td><td>6.454</td><td>98.4</td><td>1.8498</td><td>4</td><td>437</td></tr><tr><th>16</th><td>0.66351</td><td>20.0</td><td>3.97</td><td>0</td><td>0.647</td><td>7.333</td><td>100.0</td><td>1.8946</td><td>5</td><td>264</td></tr><tr><th>17</th><td>0.15445</td><td>25.0</td><td>5.13</td><td>0</td><td>0.453</td><td>6.145</td><td>29.2</td><td>7.8148</td><td>8</td><td>284</td></tr><tr><th>18</th><td>14.4208</td><td>0.0</td><td>18.1</td><td>0</td><td>0.74</td><td>6.461</td><td>93.3</td><td>2.0026</td><td>24</td><td>666</td></tr><tr><th>19</th><td>0.1</td><td>34.0</td><td>6.09</td><td>0</td><td>0.433</td><td>6.982</td><td>17.7</td><td>5.4917</td><td>7</td><td>329</td></tr><tr><th>20</th><td>0.06127</td><td>40.0</td><td>6.41</td><td>1</td><td>0.447</td><td>6.826</td><td>27.6</td><td>4.8628</td><td>4</td><td>254</td></tr><tr><th>21</th><td>2.3139</td><td>0.0</td><td>19.58</td><td>0</td><td>0.605</td><td>5.88</td><td>97.3</td><td>2.3887</td><td>5</td><td>403</td></tr><tr><th>22</th><td>0.13262</td><td>0.0</td><td>8.56</td><td>0</td><td>0.52</td><td>5.851</td><td>96.7</td><td>2.1069</td><td>5</td><td>384</td></tr><tr><th>23</th><td>0.10469</td><td>40.0</td><td>6.41</td><td>1</td><td>0.447</td><td>7.267</td><td>49.0</td><td>4.7872</td><td>4</td><td>254</td></tr><tr><th>24</th><td>19.6091</td><td>0.0</td><td>18.1</td><td>0</td><td>0.671</td><td>7.313</td><td>97.9</td><td>1.3163</td><td>24</td><td>666</td></tr><tr><th>25</th><td>0.57529</td><td>0.0</td><td>6.2</td><td>0</td><td>0.507</td><td>8.337</td><td>73.3</td><td>3.8384</td><td>8</td><td>307</td></tr><tr><th>26</th><td>0.04301</td><td>80.0</td><td>1.91</td><td>0</td><td>0.413</td><td>5.663</td><td>21.9</td><td>10.5857</td><td>4</td><td>334</td></tr><tr><th>27</th><td>0.54452</td><td>0.0</td><td>21.89</td><td>0</td><td>0.624</td><td>6.151</td><td>97.9</td><td>1.6687</td><td>4</td><td>437</td></tr><tr><th>28</th><td>8.79212</td><td>0.0</td><td>18.1</td><td>0</td><td>0.584</td><td>5.565</td><td>70.6</td><td>2.0635</td><td>24</td><td>666</td></tr><tr><th>29</th><td>3.32105</td><td>0.0</td><td>19.58</td><td>1</td><td>0.871</td><td>5.403</td><td>100.0</td><td>1.3216</td><td>5</td><td>403</td></tr><tr><th>30</th><td>0.05188</td><td>0.0</td><td>4.49</td><td>0</td><td>0.449</td><td>6.015</td><td>45.1</td><td>4.4272</td><td>3</td><td>247</td></tr><tr><th>&vellip;</th><td>&vellip;</td><td>&vellip;</td><td>&vellip;</td><td>&vellip;</td><td>&vellip;</td><td>&vellip;</td><td>&vellip;</td><td>&vellip;</td><td>&vellip;</td><td>&vellip;</td></tr></tbody></table>"
      ],
      "text/latex": [
       "\\begin{tabular}{r|ccccccccccc}\n",
       "\t& Crim & Zn & Indus & Chas & NOx & Rm & Age & Dis & Rad & Tax & \\\\\n",
       "\t\\hline\n",
       "\t& Float64 & Float64 & Float64 & Int64 & Float64 & Float64 & Float64 & Float64 & Int64 & Int64 & \\\\\n",
       "\t\\hline\n",
       "\t1 & 0.09068 & 45.0 & 3.44 & 0 & 0.437 & 6.951 & 21.5 & 6.4798 & 5 & 398 & $\\dots$ \\\\\n",
       "\t2 & 0.22489 & 12.5 & 7.87 & 0 & 0.524 & 6.377 & 94.3 & 6.3467 & 5 & 311 & $\\dots$ \\\\\n",
       "\t3 & 0.22927 & 0.0 & 6.91 & 0 & 0.448 & 6.03 & 85.5 & 5.6894 & 3 & 233 & $\\dots$ \\\\\n",
       "\t4 & 1.35472 & 0.0 & 8.14 & 0 & 0.538 & 6.072 & 100.0 & 4.175 & 4 & 307 & $\\dots$ \\\\\n",
       "\t5 & 5.29305 & 0.0 & 18.1 & 0 & 0.7 & 6.051 & 82.5 & 2.1678 & 24 & 666 & $\\dots$ \\\\\n",
       "\t6 & 3.47428 & 0.0 & 18.1 & 1 & 0.718 & 8.78 & 82.9 & 1.9047 & 24 & 666 & $\\dots$ \\\\\n",
       "\t7 & 7.02259 & 0.0 & 18.1 & 0 & 0.718 & 6.006 & 95.3 & 1.8746 & 24 & 666 & $\\dots$ \\\\\n",
       "\t8 & 0.16439 & 22.0 & 5.86 & 0 & 0.431 & 6.433 & 49.1 & 7.8265 & 7 & 330 & $\\dots$ \\\\\n",
       "\t9 & 13.5222 & 0.0 & 18.1 & 0 & 0.631 & 3.863 & 100.0 & 1.5106 & 24 & 666 & $\\dots$ \\\\\n",
       "\t10 & 2.81838 & 0.0 & 18.1 & 0 & 0.532 & 5.762 & 40.3 & 4.0983 & 24 & 666 & $\\dots$ \\\\\n",
       "\t11 & 8.64476 & 0.0 & 18.1 & 0 & 0.693 & 6.193 & 92.6 & 1.7912 & 24 & 666 & $\\dots$ \\\\\n",
       "\t12 & 0.08308 & 0.0 & 2.46 & 0 & 0.488 & 5.604 & 89.8 & 2.9879 & 3 & 193 & $\\dots$ \\\\\n",
       "\t13 & 1.83377 & 0.0 & 19.58 & 1 & 0.605 & 7.802 & 98.2 & 2.0407 & 5 & 403 & $\\dots$ \\\\\n",
       "\t14 & 25.9406 & 0.0 & 18.1 & 0 & 0.679 & 5.304 & 89.1 & 1.6475 & 24 & 666 & $\\dots$ \\\\\n",
       "\t15 & 0.35233 & 0.0 & 21.89 & 0 & 0.624 & 6.454 & 98.4 & 1.8498 & 4 & 437 & $\\dots$ \\\\\n",
       "\t16 & 0.66351 & 20.0 & 3.97 & 0 & 0.647 & 7.333 & 100.0 & 1.8946 & 5 & 264 & $\\dots$ \\\\\n",
       "\t17 & 0.15445 & 25.0 & 5.13 & 0 & 0.453 & 6.145 & 29.2 & 7.8148 & 8 & 284 & $\\dots$ \\\\\n",
       "\t18 & 14.4208 & 0.0 & 18.1 & 0 & 0.74 & 6.461 & 93.3 & 2.0026 & 24 & 666 & $\\dots$ \\\\\n",
       "\t19 & 0.1 & 34.0 & 6.09 & 0 & 0.433 & 6.982 & 17.7 & 5.4917 & 7 & 329 & $\\dots$ \\\\\n",
       "\t20 & 0.06127 & 40.0 & 6.41 & 1 & 0.447 & 6.826 & 27.6 & 4.8628 & 4 & 254 & $\\dots$ \\\\\n",
       "\t21 & 2.3139 & 0.0 & 19.58 & 0 & 0.605 & 5.88 & 97.3 & 2.3887 & 5 & 403 & $\\dots$ \\\\\n",
       "\t22 & 0.13262 & 0.0 & 8.56 & 0 & 0.52 & 5.851 & 96.7 & 2.1069 & 5 & 384 & $\\dots$ \\\\\n",
       "\t23 & 0.10469 & 40.0 & 6.41 & 1 & 0.447 & 7.267 & 49.0 & 4.7872 & 4 & 254 & $\\dots$ \\\\\n",
       "\t24 & 19.6091 & 0.0 & 18.1 & 0 & 0.671 & 7.313 & 97.9 & 1.3163 & 24 & 666 & $\\dots$ \\\\\n",
       "\t25 & 0.57529 & 0.0 & 6.2 & 0 & 0.507 & 8.337 & 73.3 & 3.8384 & 8 & 307 & $\\dots$ \\\\\n",
       "\t26 & 0.04301 & 80.0 & 1.91 & 0 & 0.413 & 5.663 & 21.9 & 10.5857 & 4 & 334 & $\\dots$ \\\\\n",
       "\t27 & 0.54452 & 0.0 & 21.89 & 0 & 0.624 & 6.151 & 97.9 & 1.6687 & 4 & 437 & $\\dots$ \\\\\n",
       "\t28 & 8.79212 & 0.0 & 18.1 & 0 & 0.584 & 5.565 & 70.6 & 2.0635 & 24 & 666 & $\\dots$ \\\\\n",
       "\t29 & 3.32105 & 0.0 & 19.58 & 1 & 0.871 & 5.403 & 100.0 & 1.3216 & 5 & 403 & $\\dots$ \\\\\n",
       "\t30 & 0.05188 & 0.0 & 4.49 & 0 & 0.449 & 6.015 & 45.1 & 4.4272 & 3 & 247 & $\\dots$ \\\\\n",
       "\t$\\dots$ & $\\dots$ & $\\dots$ & $\\dots$ & $\\dots$ & $\\dots$ & $\\dots$ & $\\dots$ & $\\dots$ & $\\dots$ & $\\dots$ &  \\\\\n",
       "\\end{tabular}\n"
      ],
      "text/plain": [
       "101×14 DataFrame. Omitted printing of 7 columns\n",
       "│ Row │ Crim    │ Zn      │ Indus   │ Chas  │ NOx     │ Rm      │ Age     │\n",
       "│     │ \u001b[90mFloat64\u001b[39m │ \u001b[90mFloat64\u001b[39m │ \u001b[90mFloat64\u001b[39m │ \u001b[90mInt64\u001b[39m │ \u001b[90mFloat64\u001b[39m │ \u001b[90mFloat64\u001b[39m │ \u001b[90mFloat64\u001b[39m │\n",
       "├─────┼─────────┼─────────┼─────────┼───────┼─────────┼─────────┼─────────┤\n",
       "│ 1   │ 0.09068 │ 45.0    │ 3.44    │ 0     │ 0.437   │ 6.951   │ 21.5    │\n",
       "│ 2   │ 0.22489 │ 12.5    │ 7.87    │ 0     │ 0.524   │ 6.377   │ 94.3    │\n",
       "│ 3   │ 0.22927 │ 0.0     │ 6.91    │ 0     │ 0.448   │ 6.03    │ 85.5    │\n",
       "│ 4   │ 1.35472 │ 0.0     │ 8.14    │ 0     │ 0.538   │ 6.072   │ 100.0   │\n",
       "│ 5   │ 5.29305 │ 0.0     │ 18.1    │ 0     │ 0.7     │ 6.051   │ 82.5    │\n",
       "│ 6   │ 3.47428 │ 0.0     │ 18.1    │ 1     │ 0.718   │ 8.78    │ 82.9    │\n",
       "│ 7   │ 7.02259 │ 0.0     │ 18.1    │ 0     │ 0.718   │ 6.006   │ 95.3    │\n",
       "│ 8   │ 0.16439 │ 22.0    │ 5.86    │ 0     │ 0.431   │ 6.433   │ 49.1    │\n",
       "│ 9   │ 13.5222 │ 0.0     │ 18.1    │ 0     │ 0.631   │ 3.863   │ 100.0   │\n",
       "│ 10  │ 2.81838 │ 0.0     │ 18.1    │ 0     │ 0.532   │ 5.762   │ 40.3    │\n",
       "⋮\n",
       "│ 91  │ 0.08265 │ 0.0     │ 13.92   │ 0     │ 0.437   │ 6.127   │ 18.4    │\n",
       "│ 92  │ 0.03537 │ 34.0    │ 6.09    │ 0     │ 0.433   │ 6.59    │ 40.4    │\n",
       "│ 93  │ 0.10328 │ 25.0    │ 5.13    │ 0     │ 0.453   │ 5.927   │ 47.2    │\n",
       "│ 94  │ 7.67202 │ 0.0     │ 18.1    │ 0     │ 0.693   │ 5.747   │ 98.9    │\n",
       "│ 95  │ 0.07151 │ 0.0     │ 4.49    │ 0     │ 0.449   │ 6.121   │ 56.8    │\n",
       "│ 96  │ 11.9511 │ 0.0     │ 18.1    │ 0     │ 0.659   │ 5.608   │ 100.0   │\n",
       "│ 97  │ 4.64689 │ 0.0     │ 18.1    │ 0     │ 0.614   │ 6.98    │ 67.6    │\n",
       "│ 98  │ 0.05561 │ 70.0    │ 2.24    │ 0     │ 0.4     │ 7.041   │ 10.0    │\n",
       "│ 99  │ 0.17446 │ 0.0     │ 10.59   │ 1     │ 0.489   │ 5.96    │ 92.1    │\n",
       "│ 100 │ 7.75223 │ 0.0     │ 18.1    │ 0     │ 0.713   │ 6.301   │ 83.7    │\n",
       "│ 101 │ 1.20742 │ 0.0     │ 19.58   │ 0     │ 0.605   │ 5.875   │ 94.6    │"
      ]
     },
     "execution_count": 4,
     "metadata": {},
     "output_type": "execute_result"
    }
   ],
   "source": [
    "train = boston[train_ind, :]\n",
    "test = boston[test_ind, :]"
   ]
  },
  {
   "cell_type": "code",
   "execution_count": 19,
   "metadata": {},
   "outputs": [
    {
     "data": {
      "text/plain": [
       "StatsModels.TableRegressionModel{LinearModel{GLM.LmResp{Array{Float64,1}},GLM.DensePredChol{Float64,LinearAlgebra.Cholesky{Float64,Array{Float64,2}}}},Array{Float64,2}}\n",
       "\n",
       "MedV ~ 1 + Crim + Zn + Indus + Chas + NOx + Rm + Age + Dis + Rad + Tax\n",
       "\n",
       "Coefficients:\n",
       "──────────────────────────────────────────────────────────────────────────────────\n",
       "               Estimate  Std. Error    t value  Pr(>|t|)    Lower 95%    Upper 95%\n",
       "──────────────────────────────────────────────────────────────────────────────────\n",
       "(Intercept)  -1.82       4.54381     -0.400545    0.6890  -10.7531      7.11314   \n",
       "Crim         -0.184107   0.0380044   -4.84437     <1e-5    -0.258824   -0.109391  \n",
       "Zn            0.0697046  0.0164439    4.23894     <1e-4     0.0373759   0.102033  \n",
       "Indus        -0.105978   0.0756443   -1.401       0.1620   -0.254695    0.0427394 \n",
       "Chas          3.78119    1.17029      3.23097     0.0013    1.48038     6.08199   \n",
       "NOx          -8.60816    4.42228     -1.94654     0.0523  -17.3024      0.0860566 \n",
       "Rm            7.01113    0.454436    15.4282      <1e-41    6.11771     7.90455   \n",
       "Age          -0.0562413  0.0158356   -3.55156     0.0004   -0.0873742  -0.0251084 \n",
       "Dis          -1.66899    0.257748    -6.47528     <1e-9    -2.17573    -1.16226   \n",
       "Rad           0.120933   0.0828889    1.45898     0.1454   -0.0420268   0.283893  \n",
       "Tax          -0.0122995  0.00472856  -2.60111     0.0096   -0.0215959  -0.00300313\n",
       "──────────────────────────────────────────────────────────────────────────────────"
      ]
     },
     "execution_count": 19,
     "metadata": {},
     "output_type": "execute_result"
    }
   ],
   "source": [
    "ols = GLM.lm(@formula(MedV ~ Crim + Zn + Indus + Chas + NOx + Rm + Age + Dis + Rad + Tax), train)"
   ]
  },
  {
   "cell_type": "code",
   "execution_count": 15,
   "metadata": {},
   "outputs": [
    {
     "data": {
      "text/plain": [
       "101-element Array{Union{Missing, Float64},1}:\n",
       " 29.59360160284755  \n",
       " 19.258549199798644 \n",
       " 19.018978137615964 \n",
       " 19.123949305663153 \n",
       " 18.138944117156864 \n",
       " 41.65002533558521  \n",
       " 17.119535858769254 \n",
       " 21.418583525075828 \n",
       "  1.9901440430095025\n",
       " 17.165893790304626 \n",
       " 18.638213475706834 \n",
       " 20.945350064744304 \n",
       " 35.76061190944511  \n",
       "  ⋮                 \n",
       " 18.307948852789814 \n",
       " 22.595388979512588 \n",
       " 27.736310673592538 \n",
       " 20.265781567970194 \n",
       " 15.599384378872479 \n",
       " 24.616674007261096 \n",
       " 14.64898234382153  \n",
       " 25.74019557635696  \n",
       " 31.308302414710226 \n",
       " 23.809820949712325 \n",
       " 18.232647370619663 \n",
       " 18.143863988628752 "
      ]
     },
     "execution_count": 15,
     "metadata": {},
     "output_type": "execute_result"
    }
   ],
   "source": [
    "pred=predict(ols, test)"
   ]
  },
  {
   "cell_type": "code",
   "execution_count": 16,
   "metadata": {},
   "outputs": [
    {
     "data": {
      "text/plain": [
       "0.6481951341583051"
      ]
     },
     "execution_count": 16,
     "metadata": {},
     "output_type": "execute_result"
    }
   ],
   "source": [
    "GLM.r²(ols)"
   ]
  },
  {
   "cell_type": "code",
   "execution_count": 17,
   "metadata": {},
   "outputs": [
    {
     "data": {
      "text/plain": [
       "0.6392660766496326"
      ]
     },
     "execution_count": 17,
     "metadata": {},
     "output_type": "execute_result"
    }
   ],
   "source": [
    "GLM.adjr²(ols)"
   ]
  },
  {
   "cell_type": "code",
   "execution_count": null,
   "metadata": {},
   "outputs": [],
   "source": []
  }
 ],
 "metadata": {
  "kernelspec": {
   "display_name": "Julia 1.3.1",
   "language": "julia",
   "name": "julia-1.3"
  },
  "language_info": {
   "file_extension": ".jl",
   "mimetype": "application/julia",
   "name": "julia",
   "version": "1.3.1"
  }
 },
 "nbformat": 4,
 "nbformat_minor": 4
}
