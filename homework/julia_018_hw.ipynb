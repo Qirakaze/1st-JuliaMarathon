{
 "cells": [
  {
   "cell_type": "markdown",
   "metadata": {
    "colab_type": "text",
    "id": "2X-9mXIwlD2v"
   },
   "source": [
    "# DataFrames.jl 介紹 (二): Joins 與 Split-Apply-Combine Strategy\n",
    "\n",
    "## Day 018 作業1：The Split-Apply-Combine Strategy\n",
    "\n",
    "同 Day 017，請載入 2020/4/2 COVID-19 Daily Report 資料集，計算每個國家/地區的累計確診人數，並列出所有資料筆數。"
   ]
  },
  {
   "cell_type": "code",
   "execution_count": 1,
   "metadata": {
    "colab": {},
    "colab_type": "code",
    "id": "jw9JRWRilD2w"
   },
   "outputs": [],
   "source": [
    "using DataFrames, CSV"
   ]
  },
  {
   "cell_type": "code",
   "execution_count": 2,
   "metadata": {
    "colab": {},
    "colab_type": "code",
    "id": "yYc3lmgzlD22",
    "outputId": "7b405ad5-8c9c-4214-b100-40a6f3febe51"
   },
   "outputs": [
    {
     "data": {
      "text/html": [
       "<table class=\"data-frame\"><thead><tr><th></th><th>FIPS</th><th>Admin2</th><th>Province_State</th><th>Country_Region</th><th>Last_Update</th><th>Lat</th></tr><tr><th></th><th>Int64⍰</th><th>String⍰</th><th>String⍰</th><th>String</th><th>String</th><th>Float64⍰</th></tr></thead><tbody><p>2,569 rows × 12 columns (omitted printing of 6 columns)</p><tr><th>1</th><td>45001</td><td>Abbeville</td><td>South Carolina</td><td>US</td><td>2020-04-02 23:25:27</td><td>34.2233</td></tr><tr><th>2</th><td>22001</td><td>Acadia</td><td>Louisiana</td><td>US</td><td>2020-04-02 23:25:27</td><td>30.2951</td></tr><tr><th>3</th><td>51001</td><td>Accomack</td><td>Virginia</td><td>US</td><td>2020-04-02 23:25:27</td><td>37.7671</td></tr><tr><th>4</th><td>16001</td><td>Ada</td><td>Idaho</td><td>US</td><td>2020-04-02 23:25:27</td><td>43.4527</td></tr><tr><th>5</th><td>19001</td><td>Adair</td><td>Iowa</td><td>US</td><td>2020-04-02 23:25:27</td><td>41.3308</td></tr><tr><th>6</th><td>29001</td><td>Adair</td><td>Missouri</td><td>US</td><td>2020-04-02 23:25:27</td><td>40.1906</td></tr><tr><th>7</th><td>40001</td><td>Adair</td><td>Oklahoma</td><td>US</td><td>2020-04-02 23:25:27</td><td>35.8849</td></tr><tr><th>8</th><td>8001</td><td>Adams</td><td>Colorado</td><td>US</td><td>2020-04-02 23:25:27</td><td>39.8743</td></tr><tr><th>9</th><td>16003</td><td>Adams</td><td>Idaho</td><td>US</td><td>2020-04-02 23:25:27</td><td>44.8933</td></tr><tr><th>10</th><td>17001</td><td>Adams</td><td>Illinois</td><td>US</td><td>2020-04-02 23:25:27</td><td>39.9882</td></tr><tr><th>11</th><td>18001</td><td>Adams</td><td>Indiana</td><td>US</td><td>2020-04-02 23:25:27</td><td>40.7458</td></tr><tr><th>12</th><td>28001</td><td>Adams</td><td>Mississippi</td><td>US</td><td>2020-04-02 23:25:27</td><td>31.4767</td></tr><tr><th>13</th><td>31001</td><td>Adams</td><td>Nebraska</td><td>US</td><td>2020-04-02 23:25:27</td><td>40.5245</td></tr><tr><th>14</th><td>42001</td><td>Adams</td><td>Pennsylvania</td><td>US</td><td>2020-04-02 23:25:27</td><td>39.8714</td></tr><tr><th>15</th><td>53001</td><td>Adams</td><td>Washington</td><td>US</td><td>2020-04-02 23:25:27</td><td>46.983</td></tr><tr><th>16</th><td>55001</td><td>Adams</td><td>Wisconsin</td><td>US</td><td>2020-04-02 23:25:27</td><td>43.9697</td></tr><tr><th>17</th><td>50001</td><td>Addison</td><td>Vermont</td><td>US</td><td>2020-04-02 23:25:27</td><td>44.0322</td></tr><tr><th>18</th><td>45003</td><td>Aiken</td><td>South Carolina</td><td>US</td><td>2020-04-02 23:25:27</td><td>33.5434</td></tr><tr><th>19</th><td>12001</td><td>Alachua</td><td>Florida</td><td>US</td><td>2020-04-02 23:25:27</td><td>29.6787</td></tr><tr><th>20</th><td>37001</td><td>Alamance</td><td>North Carolina</td><td>US</td><td>2020-04-02 23:25:27</td><td>36.0435</td></tr><tr><th>21</th><td>6001</td><td>Alameda</td><td>California</td><td>US</td><td>2020-04-02 23:25:27</td><td>37.6463</td></tr><tr><th>22</th><td>8003</td><td>Alamosa</td><td>Colorado</td><td>US</td><td>2020-04-02 23:25:27</td><td>37.5725</td></tr><tr><th>23</th><td>36001</td><td>Albany</td><td>New York</td><td>US</td><td>2020-04-02 23:25:27</td><td>42.6006</td></tr><tr><th>24</th><td>56001</td><td>Albany</td><td>Wyoming</td><td>US</td><td>2020-04-02 23:25:27</td><td>41.655</td></tr><tr><th>25</th><td>51003</td><td>Albemarle</td><td>Virginia</td><td>US</td><td>2020-04-02 23:25:27</td><td>38.0208</td></tr><tr><th>26</th><td>28003</td><td>Alcorn</td><td>Mississippi</td><td>US</td><td>2020-04-02 23:25:27</td><td>34.8808</td></tr><tr><th>27</th><td>37003</td><td>Alexander</td><td>North Carolina</td><td>US</td><td>2020-04-02 23:25:27</td><td>35.9224</td></tr><tr><th>28</th><td>51510</td><td>Alexandria</td><td>Virginia</td><td>US</td><td>2020-04-02 23:25:27</td><td>38.814</td></tr><tr><th>29</th><td>19005</td><td>Allamakee</td><td>Iowa</td><td>US</td><td>2020-04-02 23:25:27</td><td>43.2838</td></tr><tr><th>30</th><td>26005</td><td>Allegan</td><td>Michigan</td><td>US</td><td>2020-04-02 23:25:27</td><td>42.5915</td></tr><tr><th>&vellip;</th><td>&vellip;</td><td>&vellip;</td><td>&vellip;</td><td>&vellip;</td><td>&vellip;</td><td>&vellip;</td></tr></tbody></table>"
      ],
      "text/latex": [
       "\\begin{tabular}{r|ccccccc}\n",
       "\t& FIPS & Admin2 & Province\\_State & Country\\_Region & Last\\_Update & Lat & \\\\\n",
       "\t\\hline\n",
       "\t& Int64⍰ & String⍰ & String⍰ & String & String & Float64⍰ & \\\\\n",
       "\t\\hline\n",
       "\t1 & 45001 & Abbeville & South Carolina & US & 2020-04-02 23:25:27 & 34.2233 & $\\dots$ \\\\\n",
       "\t2 & 22001 & Acadia & Louisiana & US & 2020-04-02 23:25:27 & 30.2951 & $\\dots$ \\\\\n",
       "\t3 & 51001 & Accomack & Virginia & US & 2020-04-02 23:25:27 & 37.7671 & $\\dots$ \\\\\n",
       "\t4 & 16001 & Ada & Idaho & US & 2020-04-02 23:25:27 & 43.4527 & $\\dots$ \\\\\n",
       "\t5 & 19001 & Adair & Iowa & US & 2020-04-02 23:25:27 & 41.3308 & $\\dots$ \\\\\n",
       "\t6 & 29001 & Adair & Missouri & US & 2020-04-02 23:25:27 & 40.1906 & $\\dots$ \\\\\n",
       "\t7 & 40001 & Adair & Oklahoma & US & 2020-04-02 23:25:27 & 35.8849 & $\\dots$ \\\\\n",
       "\t8 & 8001 & Adams & Colorado & US & 2020-04-02 23:25:27 & 39.8743 & $\\dots$ \\\\\n",
       "\t9 & 16003 & Adams & Idaho & US & 2020-04-02 23:25:27 & 44.8933 & $\\dots$ \\\\\n",
       "\t10 & 17001 & Adams & Illinois & US & 2020-04-02 23:25:27 & 39.9882 & $\\dots$ \\\\\n",
       "\t11 & 18001 & Adams & Indiana & US & 2020-04-02 23:25:27 & 40.7458 & $\\dots$ \\\\\n",
       "\t12 & 28001 & Adams & Mississippi & US & 2020-04-02 23:25:27 & 31.4767 & $\\dots$ \\\\\n",
       "\t13 & 31001 & Adams & Nebraska & US & 2020-04-02 23:25:27 & 40.5245 & $\\dots$ \\\\\n",
       "\t14 & 42001 & Adams & Pennsylvania & US & 2020-04-02 23:25:27 & 39.8714 & $\\dots$ \\\\\n",
       "\t15 & 53001 & Adams & Washington & US & 2020-04-02 23:25:27 & 46.983 & $\\dots$ \\\\\n",
       "\t16 & 55001 & Adams & Wisconsin & US & 2020-04-02 23:25:27 & 43.9697 & $\\dots$ \\\\\n",
       "\t17 & 50001 & Addison & Vermont & US & 2020-04-02 23:25:27 & 44.0322 & $\\dots$ \\\\\n",
       "\t18 & 45003 & Aiken & South Carolina & US & 2020-04-02 23:25:27 & 33.5434 & $\\dots$ \\\\\n",
       "\t19 & 12001 & Alachua & Florida & US & 2020-04-02 23:25:27 & 29.6787 & $\\dots$ \\\\\n",
       "\t20 & 37001 & Alamance & North Carolina & US & 2020-04-02 23:25:27 & 36.0435 & $\\dots$ \\\\\n",
       "\t21 & 6001 & Alameda & California & US & 2020-04-02 23:25:27 & 37.6463 & $\\dots$ \\\\\n",
       "\t22 & 8003 & Alamosa & Colorado & US & 2020-04-02 23:25:27 & 37.5725 & $\\dots$ \\\\\n",
       "\t23 & 36001 & Albany & New York & US & 2020-04-02 23:25:27 & 42.6006 & $\\dots$ \\\\\n",
       "\t24 & 56001 & Albany & Wyoming & US & 2020-04-02 23:25:27 & 41.655 & $\\dots$ \\\\\n",
       "\t25 & 51003 & Albemarle & Virginia & US & 2020-04-02 23:25:27 & 38.0208 & $\\dots$ \\\\\n",
       "\t26 & 28003 & Alcorn & Mississippi & US & 2020-04-02 23:25:27 & 34.8808 & $\\dots$ \\\\\n",
       "\t27 & 37003 & Alexander & North Carolina & US & 2020-04-02 23:25:27 & 35.9224 & $\\dots$ \\\\\n",
       "\t28 & 51510 & Alexandria & Virginia & US & 2020-04-02 23:25:27 & 38.814 & $\\dots$ \\\\\n",
       "\t29 & 19005 & Allamakee & Iowa & US & 2020-04-02 23:25:27 & 43.2838 & $\\dots$ \\\\\n",
       "\t30 & 26005 & Allegan & Michigan & US & 2020-04-02 23:25:27 & 42.5915 & $\\dots$ \\\\\n",
       "\t$\\dots$ & $\\dots$ & $\\dots$ & $\\dots$ & $\\dots$ & $\\dots$ & $\\dots$ &  \\\\\n",
       "\\end{tabular}\n"
      ],
      "text/plain": [
       "2569×12 DataFrame. Omitted printing of 8 columns\n",
       "│ Row  │ FIPS    │ Admin2     │ Province_State │ Country_Region       │\n",
       "│      │ \u001b[90mInt64⍰\u001b[39m  │ \u001b[90mString⍰\u001b[39m    │ \u001b[90mString⍰\u001b[39m        │ \u001b[90mString\u001b[39m               │\n",
       "├──────┼─────────┼────────────┼────────────────┼──────────────────────┤\n",
       "│ 1    │ 45001   │ Abbeville  │ South Carolina │ US                   │\n",
       "│ 2    │ 22001   │ Acadia     │ Louisiana      │ US                   │\n",
       "│ 3    │ 51001   │ Accomack   │ Virginia       │ US                   │\n",
       "│ 4    │ 16001   │ Ada        │ Idaho          │ US                   │\n",
       "│ 5    │ 19001   │ Adair      │ Iowa           │ US                   │\n",
       "│ 6    │ 29001   │ Adair      │ Missouri       │ US                   │\n",
       "│ 7    │ 40001   │ Adair      │ Oklahoma       │ US                   │\n",
       "│ 8    │ 8001    │ Adams      │ Colorado       │ US                   │\n",
       "│ 9    │ 16003   │ Adams      │ Idaho          │ US                   │\n",
       "│ 10   │ 17001   │ Adams      │ Illinois       │ US                   │\n",
       "⋮\n",
       "│ 2559 │ \u001b[90mmissing\u001b[39m │ \u001b[90mmissing\u001b[39m    │ \u001b[90mmissing\u001b[39m        │ Ukraine              │\n",
       "│ 2560 │ \u001b[90mmissing\u001b[39m │ \u001b[90mmissing\u001b[39m    │ \u001b[90mmissing\u001b[39m        │ United Arab Emirates │\n",
       "│ 2561 │ \u001b[90mmissing\u001b[39m │ \u001b[90mmissing\u001b[39m    │ \u001b[90mmissing\u001b[39m        │ United Kingdom       │\n",
       "│ 2562 │ \u001b[90mmissing\u001b[39m │ \u001b[90mmissing\u001b[39m    │ \u001b[90mmissing\u001b[39m        │ Uruguay              │\n",
       "│ 2563 │ \u001b[90mmissing\u001b[39m │ \u001b[90mmissing\u001b[39m    │ \u001b[90mmissing\u001b[39m        │ Uzbekistan           │\n",
       "│ 2564 │ \u001b[90mmissing\u001b[39m │ \u001b[90mmissing\u001b[39m    │ \u001b[90mmissing\u001b[39m        │ Venezuela            │\n",
       "│ 2565 │ \u001b[90mmissing\u001b[39m │ \u001b[90mmissing\u001b[39m    │ \u001b[90mmissing\u001b[39m        │ Vietnam              │\n",
       "│ 2566 │ \u001b[90mmissing\u001b[39m │ \u001b[90mmissing\u001b[39m    │ \u001b[90mmissing\u001b[39m        │ West Bank and Gaza   │\n",
       "│ 2567 │ \u001b[90mmissing\u001b[39m │ \u001b[90mmissing\u001b[39m    │ \u001b[90mmissing\u001b[39m        │ Zambia               │\n",
       "│ 2568 │ \u001b[90mmissing\u001b[39m │ \u001b[90mmissing\u001b[39m    │ \u001b[90mmissing\u001b[39m        │ Zimbabwe             │\n",
       "│ 2569 │ \u001b[90mmissing\u001b[39m │ unassigned │ Wyoming        │ US                   │"
      ]
     },
     "execution_count": 2,
     "metadata": {},
     "output_type": "execute_result"
    }
   ],
   "source": [
    "df = CSV.read(\"04-02-2020.csv\")"
   ]
  },
  {
   "cell_type": "markdown",
   "metadata": {
    "colab_type": "text",
    "id": "Pw8WALcSlD28"
   },
   "source": [
    "計算計算每個國家/地區的累計確診人數\n",
    "\n",
    "【提示】可使用 groupby 相關的函式"
   ]
  },
  {
   "cell_type": "code",
   "execution_count": 3,
   "metadata": {
    "colab": {},
    "colab_type": "code",
    "id": "OPoCjf98lD29"
   },
   "outputs": [
    {
     "data": {
      "text/html": [
       "<table class=\"data-frame\"><thead><tr><th></th><th>Country_Region</th><th>Active</th></tr><tr><th></th><th>String</th><th>Int64</th></tr></thead><tbody><p>181 rows × 2 columns</p><tr><th>1</th><td>US</td><td>2312</td></tr><tr><th>2</th><td>Canada</td><td>15</td></tr><tr><th>3</th><td>United Kingdom</td><td>10</td></tr><tr><th>4</th><td>China</td><td>33</td></tr><tr><th>5</th><td>Netherlands</td><td>5</td></tr><tr><th>6</th><td>Australia</td><td>8</td></tr><tr><th>7</th><td>Denmark</td><td>3</td></tr><tr><th>8</th><td>France</td><td>10</td></tr><tr><th>9</th><td>Afghanistan</td><td>1</td></tr><tr><th>10</th><td>Albania</td><td>1</td></tr><tr><th>11</th><td>Algeria</td><td>1</td></tr><tr><th>12</th><td>Andorra</td><td>1</td></tr><tr><th>13</th><td>Angola</td><td>1</td></tr><tr><th>14</th><td>Antigua and Barbuda</td><td>1</td></tr><tr><th>15</th><td>Argentina</td><td>1</td></tr><tr><th>16</th><td>Armenia</td><td>1</td></tr><tr><th>17</th><td>Austria</td><td>1</td></tr><tr><th>18</th><td>Azerbaijan</td><td>1</td></tr><tr><th>19</th><td>Bahamas</td><td>1</td></tr><tr><th>20</th><td>Bahrain</td><td>1</td></tr><tr><th>21</th><td>Bangladesh</td><td>1</td></tr><tr><th>22</th><td>Barbados</td><td>1</td></tr><tr><th>23</th><td>Belarus</td><td>1</td></tr><tr><th>24</th><td>Belgium</td><td>1</td></tr><tr><th>25</th><td>Belize</td><td>1</td></tr><tr><th>26</th><td>Benin</td><td>1</td></tr><tr><th>27</th><td>Bhutan</td><td>1</td></tr><tr><th>28</th><td>Bolivia</td><td>1</td></tr><tr><th>29</th><td>Bosnia and Herzegovina</td><td>1</td></tr><tr><th>30</th><td>Botswana</td><td>1</td></tr><tr><th>&vellip;</th><td>&vellip;</td><td>&vellip;</td></tr></tbody></table>"
      ],
      "text/latex": [
       "\\begin{tabular}{r|cc}\n",
       "\t& Country\\_Region & Active\\\\\n",
       "\t\\hline\n",
       "\t& String & Int64\\\\\n",
       "\t\\hline\n",
       "\t1 & US & 2312 \\\\\n",
       "\t2 & Canada & 15 \\\\\n",
       "\t3 & United Kingdom & 10 \\\\\n",
       "\t4 & China & 33 \\\\\n",
       "\t5 & Netherlands & 5 \\\\\n",
       "\t6 & Australia & 8 \\\\\n",
       "\t7 & Denmark & 3 \\\\\n",
       "\t8 & France & 10 \\\\\n",
       "\t9 & Afghanistan & 1 \\\\\n",
       "\t10 & Albania & 1 \\\\\n",
       "\t11 & Algeria & 1 \\\\\n",
       "\t12 & Andorra & 1 \\\\\n",
       "\t13 & Angola & 1 \\\\\n",
       "\t14 & Antigua and Barbuda & 1 \\\\\n",
       "\t15 & Argentina & 1 \\\\\n",
       "\t16 & Armenia & 1 \\\\\n",
       "\t17 & Austria & 1 \\\\\n",
       "\t18 & Azerbaijan & 1 \\\\\n",
       "\t19 & Bahamas & 1 \\\\\n",
       "\t20 & Bahrain & 1 \\\\\n",
       "\t21 & Bangladesh & 1 \\\\\n",
       "\t22 & Barbados & 1 \\\\\n",
       "\t23 & Belarus & 1 \\\\\n",
       "\t24 & Belgium & 1 \\\\\n",
       "\t25 & Belize & 1 \\\\\n",
       "\t26 & Benin & 1 \\\\\n",
       "\t27 & Bhutan & 1 \\\\\n",
       "\t28 & Bolivia & 1 \\\\\n",
       "\t29 & Bosnia and Herzegovina & 1 \\\\\n",
       "\t30 & Botswana & 1 \\\\\n",
       "\t$\\dots$ & $\\dots$ & $\\dots$ \\\\\n",
       "\\end{tabular}\n"
      ],
      "text/plain": [
       "181×2 DataFrame\n",
       "│ Row │ Country_Region       │ Active │\n",
       "│     │ \u001b[90mString\u001b[39m               │ \u001b[90mInt64\u001b[39m  │\n",
       "├─────┼──────────────────────┼────────┤\n",
       "│ 1   │ US                   │ 2312   │\n",
       "│ 2   │ Canada               │ 15     │\n",
       "│ 3   │ United Kingdom       │ 10     │\n",
       "│ 4   │ China                │ 33     │\n",
       "│ 5   │ Netherlands          │ 5      │\n",
       "│ 6   │ Australia            │ 8      │\n",
       "│ 7   │ Denmark              │ 3      │\n",
       "│ 8   │ France               │ 10     │\n",
       "│ 9   │ Afghanistan          │ 1      │\n",
       "│ 10  │ Albania              │ 1      │\n",
       "⋮\n",
       "│ 171 │ Turkey               │ 1      │\n",
       "│ 172 │ Uganda               │ 1      │\n",
       "│ 173 │ Ukraine              │ 1      │\n",
       "│ 174 │ United Arab Emirates │ 1      │\n",
       "│ 175 │ Uruguay              │ 1      │\n",
       "│ 176 │ Uzbekistan           │ 1      │\n",
       "│ 177 │ Venezuela            │ 1      │\n",
       "│ 178 │ Vietnam              │ 1      │\n",
       "│ 179 │ West Bank and Gaza   │ 1      │\n",
       "│ 180 │ Zambia               │ 1      │\n",
       "│ 181 │ Zimbabwe             │ 1      │"
      ]
     },
     "execution_count": 3,
     "metadata": {},
     "output_type": "execute_result"
    }
   ],
   "source": [
    "ECA = by(df,:Country_Region,Active = :Active=>length)"
   ]
  },
  {
   "cell_type": "code",
   "execution_count": 4,
   "metadata": {
    "colab": {},
    "colab_type": "code",
    "id": "habhL6illD3B"
   },
   "outputs": [
    {
     "name": "stdout",
     "output_type": "stream",
     "text": [
      "181×2 DataFrame\n",
      "│ Row │ Country_Region       │ Active │\n",
      "│     │ \u001b[90mString\u001b[39m               │ \u001b[90mInt64\u001b[39m  │\n",
      "├─────┼──────────────────────┼────────┤\n",
      "│ 1   │ US                   │ 2312   │\n",
      "│ 2   │ Canada               │ 15     │\n",
      "│ 3   │ United Kingdom       │ 10     │\n",
      "│ 4   │ China                │ 33     │\n",
      "│ 5   │ Netherlands          │ 5      │\n",
      "│ 6   │ Australia            │ 8      │\n",
      "│ 7   │ Denmark              │ 3      │\n",
      "│ 8   │ France               │ 10     │\n",
      "│ 9   │ Afghanistan          │ 1      │\n",
      "│ 10  │ Albania              │ 1      │\n",
      "⋮\n",
      "│ 171 │ Turkey               │ 1      │\n",
      "│ 172 │ Uganda               │ 1      │\n",
      "│ 173 │ Ukraine              │ 1      │\n",
      "│ 174 │ United Arab Emirates │ 1      │\n",
      "│ 175 │ Uruguay              │ 1      │\n",
      "│ 176 │ Uzbekistan           │ 1      │\n",
      "│ 177 │ Venezuela            │ 1      │\n",
      "│ 178 │ Vietnam              │ 1      │\n",
      "│ 179 │ West Bank and Gaza   │ 1      │\n",
      "│ 180 │ Zambia               │ 1      │\n",
      "│ 181 │ Zimbabwe             │ 1      │"
     ]
    }
   ],
   "source": [
    "# 顯示所有資料\n",
    "show(ECA)"
   ]
  },
  {
   "cell_type": "markdown",
   "metadata": {
    "colab_type": "text",
    "id": "2ye5nBbjlD3G"
   },
   "source": [
    "## 作業2：請列出美國各區域或事件 (依 Province_State 欄) 的累積確診、死亡、康復人數。\n",
    "\n",
    "【提示】使用 Split-Apply-Combine Strategy 時，有幾種不同的函式可以使用，請參照 `DataFrames.jl` 官方文件 [https://juliadata.github.io/DataFrames.jl/stable/lib/functions/#DataFrames.groupby](https://juliadata.github.io/DataFrames.jl/stable/lib/functions/#DataFrames.groupby)"
   ]
  },
  {
   "cell_type": "code",
   "execution_count": 5,
   "metadata": {
    "colab": {},
    "colab_type": "code",
    "id": "wDmhNGHWlD3H"
   },
   "outputs": [
    {
     "data": {
      "text/html": [
       "<table class=\"data-frame\"><thead><tr><th></th><th>Province_State</th><th>Active</th><th>Deaths</th><th>Recovered</th></tr><tr><th></th><th>String⍰</th><th>Int64</th><th>Int64</th><th>Int64</th></tr></thead><tbody><p>2,312 rows × 4 columns</p><tr><th>1</th><td>South Carolina</td><td>0</td><td>0</td><td>0</td></tr><tr><th>2</th><td>Louisiana</td><td>0</td><td>1</td><td>0</td></tr><tr><th>3</th><td>Virginia</td><td>0</td><td>0</td><td>0</td></tr><tr><th>4</th><td>Idaho</td><td>0</td><td>3</td><td>0</td></tr><tr><th>5</th><td>Iowa</td><td>0</td><td>0</td><td>0</td></tr><tr><th>6</th><td>Missouri</td><td>0</td><td>0</td><td>0</td></tr><tr><th>7</th><td>Oklahoma</td><td>0</td><td>0</td><td>0</td></tr><tr><th>8</th><td>Colorado</td><td>0</td><td>2</td><td>0</td></tr><tr><th>9</th><td>Idaho</td><td>0</td><td>0</td><td>0</td></tr><tr><th>10</th><td>Illinois</td><td>0</td><td>0</td><td>0</td></tr><tr><th>11</th><td>Indiana</td><td>0</td><td>0</td><td>0</td></tr><tr><th>12</th><td>Mississippi</td><td>0</td><td>0</td><td>0</td></tr><tr><th>13</th><td>Nebraska</td><td>0</td><td>0</td><td>0</td></tr><tr><th>14</th><td>Pennsylvania</td><td>0</td><td>0</td><td>0</td></tr><tr><th>15</th><td>Washington</td><td>0</td><td>0</td><td>0</td></tr><tr><th>16</th><td>Wisconsin</td><td>0</td><td>0</td><td>0</td></tr><tr><th>17</th><td>Vermont</td><td>0</td><td>0</td><td>0</td></tr><tr><th>18</th><td>South Carolina</td><td>0</td><td>1</td><td>0</td></tr><tr><th>19</th><td>Florida</td><td>0</td><td>0</td><td>0</td></tr><tr><th>20</th><td>North Carolina</td><td>0</td><td>0</td><td>0</td></tr><tr><th>21</th><td>California</td><td>0</td><td>8</td><td>0</td></tr><tr><th>22</th><td>Colorado</td><td>0</td><td>0</td><td>0</td></tr><tr><th>23</th><td>New York</td><td>0</td><td>2</td><td>0</td></tr><tr><th>24</th><td>Wyoming</td><td>0</td><td>0</td><td>0</td></tr><tr><th>25</th><td>Virginia</td><td>0</td><td>0</td><td>0</td></tr><tr><th>26</th><td>Mississippi</td><td>0</td><td>0</td><td>0</td></tr><tr><th>27</th><td>North Carolina</td><td>0</td><td>0</td><td>0</td></tr><tr><th>28</th><td>Virginia</td><td>0</td><td>0</td><td>0</td></tr><tr><th>29</th><td>Iowa</td><td>0</td><td>1</td><td>0</td></tr><tr><th>30</th><td>Michigan</td><td>0</td><td>0</td><td>0</td></tr><tr><th>&vellip;</th><td>&vellip;</td><td>&vellip;</td><td>&vellip;</td><td>&vellip;</td></tr></tbody></table>"
      ],
      "text/latex": [
       "\\begin{tabular}{r|cccc}\n",
       "\t& Province\\_State & Active & Deaths & Recovered\\\\\n",
       "\t\\hline\n",
       "\t& String⍰ & Int64 & Int64 & Int64\\\\\n",
       "\t\\hline\n",
       "\t1 & South Carolina & 0 & 0 & 0 \\\\\n",
       "\t2 & Louisiana & 0 & 1 & 0 \\\\\n",
       "\t3 & Virginia & 0 & 0 & 0 \\\\\n",
       "\t4 & Idaho & 0 & 3 & 0 \\\\\n",
       "\t5 & Iowa & 0 & 0 & 0 \\\\\n",
       "\t6 & Missouri & 0 & 0 & 0 \\\\\n",
       "\t7 & Oklahoma & 0 & 0 & 0 \\\\\n",
       "\t8 & Colorado & 0 & 2 & 0 \\\\\n",
       "\t9 & Idaho & 0 & 0 & 0 \\\\\n",
       "\t10 & Illinois & 0 & 0 & 0 \\\\\n",
       "\t11 & Indiana & 0 & 0 & 0 \\\\\n",
       "\t12 & Mississippi & 0 & 0 & 0 \\\\\n",
       "\t13 & Nebraska & 0 & 0 & 0 \\\\\n",
       "\t14 & Pennsylvania & 0 & 0 & 0 \\\\\n",
       "\t15 & Washington & 0 & 0 & 0 \\\\\n",
       "\t16 & Wisconsin & 0 & 0 & 0 \\\\\n",
       "\t17 & Vermont & 0 & 0 & 0 \\\\\n",
       "\t18 & South Carolina & 0 & 1 & 0 \\\\\n",
       "\t19 & Florida & 0 & 0 & 0 \\\\\n",
       "\t20 & North Carolina & 0 & 0 & 0 \\\\\n",
       "\t21 & California & 0 & 8 & 0 \\\\\n",
       "\t22 & Colorado & 0 & 0 & 0 \\\\\n",
       "\t23 & New York & 0 & 2 & 0 \\\\\n",
       "\t24 & Wyoming & 0 & 0 & 0 \\\\\n",
       "\t25 & Virginia & 0 & 0 & 0 \\\\\n",
       "\t26 & Mississippi & 0 & 0 & 0 \\\\\n",
       "\t27 & North Carolina & 0 & 0 & 0 \\\\\n",
       "\t28 & Virginia & 0 & 0 & 0 \\\\\n",
       "\t29 & Iowa & 0 & 1 & 0 \\\\\n",
       "\t30 & Michigan & 0 & 0 & 0 \\\\\n",
       "\t$\\dots$ & $\\dots$ & $\\dots$ & $\\dots$ & $\\dots$ \\\\\n",
       "\\end{tabular}\n"
      ],
      "text/plain": [
       "2312×4 DataFrame\n",
       "│ Row  │ Province_State           │ Active │ Deaths │ Recovered │\n",
       "│      │ \u001b[90mUnion{Missing, String}\u001b[39m   │ \u001b[90mInt64\u001b[39m  │ \u001b[90mInt64\u001b[39m  │ \u001b[90mInt64\u001b[39m     │\n",
       "├──────┼──────────────────────────┼────────┼────────┼───────────┤\n",
       "│ 1    │ South Carolina           │ 0      │ 0      │ 0         │\n",
       "│ 2    │ Louisiana                │ 0      │ 1      │ 0         │\n",
       "│ 3    │ Virginia                 │ 0      │ 0      │ 0         │\n",
       "│ 4    │ Idaho                    │ 0      │ 3      │ 0         │\n",
       "│ 5    │ Iowa                     │ 0      │ 0      │ 0         │\n",
       "│ 6    │ Missouri                 │ 0      │ 0      │ 0         │\n",
       "│ 7    │ Oklahoma                 │ 0      │ 0      │ 0         │\n",
       "│ 8    │ Colorado                 │ 0      │ 2      │ 0         │\n",
       "│ 9    │ Idaho                    │ 0      │ 0      │ 0         │\n",
       "│ 10   │ Illinois                 │ 0      │ 0      │ 0         │\n",
       "⋮\n",
       "│ 2302 │ California               │ 0      │ 0      │ 0         │\n",
       "│ 2303 │ Arizona                  │ 0      │ 0      │ 0         │\n",
       "│ 2304 │ Colorado                 │ 0      │ 0      │ 0         │\n",
       "│ 2305 │ Diamond Princess         │ 0      │ 0      │ 0         │\n",
       "│ 2306 │ Grand Princess           │ 0      │ 3      │ 0         │\n",
       "│ 2307 │ Guam                     │ 0      │ 3      │ 0         │\n",
       "│ 2308 │ Northern Mariana Islands │ 0      │ 1      │ 0         │\n",
       "│ 2309 │ Puerto Rico              │ 0      │ 12     │ 0         │\n",
       "│ 2310 │ Recovered                │ 0      │ 0      │ 9001      │\n",
       "│ 2311 │ Virgin Islands           │ 0      │ 0      │ 0         │\n",
       "│ 2312 │ Wyoming                  │ 0      │ 0      │ 0         │"
      ]
     },
     "execution_count": 5,
     "metadata": {},
     "output_type": "execute_result"
    }
   ],
   "source": [
    "d = groupby(df, :Country_Region)\n",
    "d[(\"US\",)][:,[:Province_State,:Active,:Deaths,:Recovered]]"
   ]
  },
  {
   "cell_type": "code",
   "execution_count": 0,
   "metadata": {
    "colab": {},
    "colab_type": "code",
    "id": "DNcWry3zlD3N"
   },
   "outputs": [],
   "source": []
  }
 ],
 "metadata": {
  "colab": {
   "name": "julia_018_hw.ipynb",
   "provenance": []
  },
  "kernelspec": {
   "display_name": "Julia 1.3.1",
   "language": "julia",
   "name": "julia-1.3"
  },
  "language_info": {
   "file_extension": ".jl",
   "mimetype": "application/julia",
   "name": "julia",
   "version": "1.3.1"
  }
 },
 "nbformat": 4,
 "nbformat_minor": 1
}
